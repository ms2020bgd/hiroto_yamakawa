{
 "cells": [
  {
   "cell_type": "code",
   "execution_count": 1,
   "metadata": {},
   "outputs": [],
   "source": [
    "import requests\n",
    "import urllib.request\n",
    "from bs4 import BeautifulSoup\n",
    "import time"
   ]
  },
  {
   "cell_type": "code",
   "execution_count": 2,
   "metadata": {},
   "outputs": [],
   "source": [
    "url =\"https://fr.wikipedia.org/wiki/Liste_des_communes_de_France_les_plus_peupl%C3%A9es\""
   ]
  },
  {
   "cell_type": "code",
   "execution_count": 3,
   "metadata": {},
   "outputs": [],
   "source": [
    "def commune(url):\n",
    " \n",
    "    page = requests.get(url, verify=True, timeout = 5)\n",
    "    html = page.text\n",
    "    soup = BeautifulSoup(html, \"html.parser\")\n",
    "\n",
    "    divs = soup.find('table').find('tbody').find_all('tr')\n",
    "    \n",
    "    print(\"Les 10 Communes les plus peuplées de France: \")\n",
    "    for index, line in enumerate(divs[1:11]):\n",
    "        city = line.find('a').text\n",
    "        print(str(index+1) + \" - \" + str(city))\n",
    "        \n",
    "        \n",
    "        #print(str(index + 1) + \" - \" + name)"
   ]
  },
  {
   "cell_type": "code",
   "execution_count": 4,
   "metadata": {},
   "outputs": [
    {
     "name": "stdout",
     "output_type": "stream",
     "text": [
      "Les 10 Communes les plus peuplées de France: \n",
      "1 - Paris\n",
      "2 - Marseille\n",
      "3 - Lyon\n",
      "4 - Toulouse\n",
      "5 - Nice\n",
      "6 - Nantes\n",
      "7 - Montpellier\n",
      "8 - Strasbourg\n",
      "9 - Bordeaux\n",
      "10 - Lille\n"
     ]
    }
   ],
   "source": [
    "commune(url)"
   ]
  },
  {
   "cell_type": "code",
   "execution_count": null,
   "metadata": {},
   "outputs": [],
   "source": []
  },
  {
   "cell_type": "code",
   "execution_count": null,
   "metadata": {},
   "outputs": [],
   "source": []
  }
 ],
 "metadata": {
  "kernelspec": {
   "display_name": "Python 3",
   "language": "python",
   "name": "python3"
  },
  "language_info": {
   "codemirror_mode": {
    "name": "ipython",
    "version": 3
   },
   "file_extension": ".py",
   "mimetype": "text/x-python",
   "name": "python",
   "nbconvert_exporter": "python",
   "pygments_lexer": "ipython3",
   "version": "3.7.3"
  }
 },
 "nbformat": 4,
 "nbformat_minor": 2
}
